{
 "cells": [
  {
   "cell_type": "code",
   "execution_count": 107,
   "metadata": {},
   "outputs": [],
   "source": [
    "## let's import the relevant libraries\n",
    "import torch\n",
    "import torch.nn as nn\n",
    "from time import perf_counter\n",
    "from PIL import Image\n",
    "import matplotlib.pyplot as plt\n",
    "from functools import partial\n",
    "import numpy as np\n",
    "import requests\n",
    "import os\n",
    "\n",
    "## check if GPU is available and use it; otherwise use CPU\n",
    "# device = torch.device(\"cuda:0\" if torch.cuda.is_available() else \"cpu\")\n",
    "device = torch.device(\"cpu\")"
   ]
  },
  {
   "cell_type": "markdown",
   "metadata": {},
   "source": [
    "## Example 1: Single ODE\n",
    "\n",
    "Consider the ode:\n",
    "$$\n",
    "\\frac{d\\Psi}{dx} = f(x, \\Psi),\n",
    "$$\n",
    "with $x \\in [0,1]$ and initial conditions (IC):\n",
    "$$\n",
    "\\Psi(0) = A.\n",
    "$$\n",
    "We write the trial solution by:\n",
    "$$\n",
    "\\hat{\\Psi}(x; \\theta) = A + x N(x; \\theta),\n",
    "$$\n",
    "where $N(x; \\theta)$ is a neural network (NN).\n",
    "The solution is $\\hat{\\Psi}(x;\\theta)$ automatically satisfied the initial conditions.\n",
    "The loss function we would like to minimize to train the NN is:\n",
    "$$\n",
    "L(\\theta) = \\int_0^1 \\left[\\frac{d\\hat{\\Psi}(x;\\theta)}{dx} - f(x,\\hat{\\Psi}(x;\\theta))\\right]^2dx\n",
    "$$\n",
    " -------------------\n",
    "Function: \n",
    "$$\n",
    "f(x) = \\cos(x) e^\\frac{-x}{5} - \\frac{\\Psi}{5}\n",
    "$$\n",
    "\n",
    "True solution (solved by the numerical way):\n",
    "$$\n",
    "\\Psi = e^\\frac{-x}{5} \\sin(x)\n",
    "$$"
   ]
  },
  {
   "cell_type": "markdown",
   "metadata": {},
   "source": [
    "If we have a ODE system with two ODE function => Loss function will be the sum of both"
   ]
  },
  {
   "cell_type": "code",
   "execution_count": 108,
   "metadata": {},
   "outputs": [],
   "source": [
    "# N is a Neural Network - This is exactly the network used by Lagaris et al. 1997\n",
    "N = nn.Sequential(nn.Linear(1, 50), nn.Sigmoid(), nn.Linear(50,1, bias=False))\n",
    "\n",
    "# Initial condition\n",
    "A = 0.\n",
    "\n",
    "# The Psi_t function\n",
    "Psi_t = lambda x: A + x * N(x)\n",
    "\n",
    "# The right hand side function\n",
    "f = lambda x, Psi: torch.exp(-x / 5.0) * torch.cos(x) - Psi / 5.0\n",
    "\n",
    "# The loss function\n",
    "def loss(x):\n",
    "    x.requires_grad = True\n",
    "    outputs = Psi_t(x)\n",
    "    Psi_t_x = torch.autograd.grad(outputs, x, grad_outputs=torch.ones_like(outputs),\n",
    "                                  create_graph=True)[0]\n",
    "    return torch.mean((Psi_t_x - f(x, outputs)) ** 2)"
   ]
  },
  {
   "cell_type": "code",
   "execution_count": 109,
   "metadata": {},
   "outputs": [
    {
     "data": {
      "image/png": "[encoded data removed]",
      "text/plain": [
       "<Figure size 600x400 with 1 Axes>"
      ]
     },
     "metadata": {
      "needs_background": "light"
     },
     "output_type": "display_data"
    }
   ],
   "source": [
    "# Optimize (same algorithm as in Lagaris)\n",
    "optimizer = torch.optim.LBFGS(N.parameters())\n",
    "\n",
    "# The collocation points used by Lagaris\n",
    "x = torch.Tensor(np.linspace(0, 2, 100)[:, None])\n",
    "\n",
    "# Run the optimizer\n",
    "def closure():\n",
    "    optimizer.zero_grad()\n",
    "    l = loss(x)\n",
    "    l.backward()\n",
    "    return l\n",
    "    \n",
    "for i in range(10):\n",
    "    optimizer.step(closure)\n",
    "\n",
    "# Let's compare the result to the true solution\n",
    "xx = np.linspace(0, 2, 100)[:, None]\n",
    "with torch.no_grad():\n",
    "    yy = Psi_t(torch.Tensor(xx)).numpy()\n",
    "yt = np.exp(-xx / 5.0) * np.sin(xx)\n",
    "\n",
    "fig, ax = plt.subplots(dpi=100)\n",
    "ax.plot(xx, yt, label='True')\n",
    "ax.plot(xx, yy, '--', label='Neural network approximation')\n",
    "ax.set_xlabel('$x$')\n",
    "ax.set_ylabel('$\\Psi(x)$')\n",
    "plt.legend(loc='best');"
   ]
  },
  {
   "cell_type": "markdown",
   "metadata": {},
   "source": [
    "# Try 1 ODE with my code"
   ]
  },
  {
   "cell_type": "code",
   "execution_count": 1,
   "metadata": {},
   "outputs": [],
   "source": [
    "import torch\n",
    "import torch.nn as nn\n",
    "import matplotlib.pyplot as plt\n",
    "import numpy as np\n",
    "\n",
    "device = torch.device(\"cpu\")"
   ]
  },
  {
   "cell_type": "code",
   "execution_count": 37,
   "metadata": {},
   "outputs": [],
   "source": [
    "# data range\n",
    "x = torch.Tensor(np.linspace(0, 2, 100)[:, None])\n",
    "\n",
    "learning_rate = 0.001\n",
    "n_epoch = 500"
   ]
  },
  {
   "cell_type": "code",
   "execution_count": 3,
   "metadata": {},
   "outputs": [],
   "source": [
    "# full connected network\n",
    "class NeuralNet(nn.Module):\n",
    "    def __init__(self, input_size, hidden_size, num_classes):\n",
    "        super(NeuralNet, self).__init__()\n",
    "        self.l1 = nn.Linear(input_size, hidden_size)\n",
    "        self.relu = nn.ReLU()\n",
    "        self.l2 = nn.Linear(hidden_size, num_classes)\n",
    "    \n",
    "    def forward(self, x):\n",
    "        out = self.l1(x)\n",
    "        out = self.relu(out)\n",
    "        out = self.l2(out)\n",
    "        return out"
   ]
  },
  {
   "cell_type": "code",
   "execution_count": 4,
   "metadata": {},
   "outputs": [],
   "source": [
    "# N is a Neural Network - has 1 hidden layer\n",
    "N = NeuralNet(1, 50, 1).to(device)\n",
    "\n",
    "# Initial condition\n",
    "A = 0.\n",
    "\n",
    "# The Psi_t function\n",
    "Psi_t = lambda x: A + x * N(x)\n",
    "\n",
    "# The right hand side function\n",
    "f = lambda x, Psi: torch.exp(-x / 5.0) * torch.cos(x) - Psi / 5.0"
   ]
  },
  {
   "cell_type": "code",
   "execution_count": 11,
   "metadata": {},
   "outputs": [],
   "source": [
    "def df(nn: NeuralNet, x: torch.Tensor = None, order: int = 1) -> torch.Tensor:\n",
    "    \"\"\"Compute neural network derivative with respect to the input feature(s) using PyTorch autograd engine\"\"\"\n",
    "    df_value = N(x)\n",
    "    for _ in range(order):\n",
    "        df_value = torch.autograd.grad(\n",
    "            df_value,\n",
    "            x,\n",
    "            grad_outputs=torch.ones_like(x),\n",
    "            create_graph=True,\n",
    "            retain_graph=True,\n",
    "        )[0]\n",
    "\n",
    "    return df_value"
   ]
  },
  {
   "cell_type": "code",
   "execution_count": 39,
   "metadata": {},
   "outputs": [],
   "source": [
    "# The loss function\n",
    "def loss_ode(x):\n",
    "    x.requires_grad = True\n",
    "\n",
    "    outputs = Psi_t(x)\n",
    "    Psi_t_x = torch.autograd.grad(outputs, x, grad_outputs=torch.ones_like(outputs),\n",
    "                                  create_graph=True)[0]\n",
    "    return torch.mean((Psi_t_x - f(x, outputs)) ** 2)\n",
    "\n",
    "    outputs = N(x)\n",
    "\n",
    "    d_x = torch.autograd.grad(outputs, x, grad_outputs=torch.ones_like(outputs),\n",
    "                                  create_graph=True)[0]\n",
    "\n",
    "    return torch.mean(((d_x - f(x, outputs)) ** 2) + ((N(torch.ones_like(x))-A) ** 2))"
   ]
  },
  {
   "cell_type": "code",
   "execution_count": 40,
   "metadata": {},
   "outputs": [
    {
     "name": "stdout",
     "output_type": "stream",
     "text": [
      "epoch 10, loss = 0.3680\n",
      "epoch 20, loss = 0.2771\n",
      "epoch 30, loss = 0.2059\n",
      "epoch 40, loss = 0.1559\n",
      "epoch 50, loss = 0.1200\n",
      "epoch 60, loss = 0.0962\n",
      "epoch 70, loss = 0.0799\n",
      "epoch 80, loss = 0.0667\n",
      "epoch 90, loss = 0.0578\n",
      "epoch 100, loss = 0.0529\n",
      "epoch 110, loss = 0.0467\n",
      "epoch 120, loss = 0.0413\n",
      "epoch 130, loss = 0.0385\n",
      "epoch 140, loss = 0.0354\n",
      "epoch 150, loss = 0.0328\n",
      "epoch 160, loss = 0.0301\n",
      "epoch 170, loss = 0.0281\n",
      "epoch 180, loss = 0.0257\n",
      "epoch 190, loss = 0.0238\n",
      "epoch 200, loss = 0.0218\n",
      "epoch 210, loss = 0.0199\n",
      "epoch 220, loss = 0.0181\n",
      "epoch 230, loss = 0.0166\n",
      "epoch 240, loss = 0.0145\n",
      "epoch 250, loss = 0.0131\n",
      "epoch 260, loss = 0.0117\n",
      "epoch 270, loss = 0.0102\n",
      "epoch 280, loss = 0.0087\n",
      "epoch 290, loss = 0.0072\n",
      "epoch 300, loss = 0.0057\n",
      "epoch 310, loss = 0.0054\n",
      "epoch 320, loss = 0.0038\n",
      "epoch 330, loss = 0.0036\n",
      "epoch 340, loss = 0.0034\n",
      "epoch 350, loss = 0.0032\n",
      "epoch 360, loss = 0.0016\n",
      "epoch 370, loss = 0.0015\n",
      "epoch 380, loss = 0.0014\n",
      "epoch 390, loss = 0.0014\n",
      "epoch 400, loss = 0.0014\n",
      "epoch 410, loss = 0.0013\n",
      "epoch 420, loss = 0.0013\n",
      "epoch 430, loss = 0.0012\n",
      "epoch 440, loss = 0.0012\n",
      "epoch 450, loss = 0.0012\n",
      "epoch 460, loss = 0.0011\n",
      "epoch 470, loss = 0.0011\n",
      "epoch 480, loss = 0.0010\n",
      "epoch 490, loss = 0.0010\n",
      "epoch 500, loss = 0.0009\n"
     ]
    }
   ],
   "source": [
    "# Optimize\n",
    "optimizer = torch.optim.Adam(N.parameters(), lr=learning_rate) \n",
    "\n",
    "# traning loop\n",
    "for epoch in range(n_epoch):\n",
    "    # forward\n",
    "    l = loss_ode(x)\n",
    "\n",
    "    # backward\n",
    "    optimizer.zero_grad()\n",
    "    l.backward()\n",
    "    optimizer.step()\n",
    "\n",
    "    if (epoch+1) % 10 == 0:\n",
    "        print(f'epoch {epoch+1}, loss = {l.item():.4f}')"
   ]
  },
  {
   "cell_type": "code",
   "execution_count": 36,
   "metadata": {},
   "outputs": [
    {
     "data": {
      "image/png": "[encoded data removed]",
      "text/plain": [
       "<Figure size 600x400 with 1 Axes>"
      ]
     },
     "metadata": {
      "needs_background": "light"
     },
     "output_type": "display_data"
    }
   ],
   "source": [
    "# Let's compare the result to the true solution\n",
    "xx = np.linspace(0, 2, 100)[:, None]\n",
    "with torch.no_grad():\n",
    "    yy = Psi_t(torch.Tensor(xx)).numpy()\n",
    "yt = np.exp(-xx / 5.0) * np.sin(xx)\n",
    "\n",
    "fig, ax = plt.subplots(dpi=100)\n",
    "ax.plot(xx, yt, label='True')\n",
    "ax.plot(xx, yy, '--', label='Neural network approximation')\n",
    "ax.set_xlabel('$x$')\n",
    "ax.set_ylabel('$\\Psi(x)$')\n",
    "plt.legend(loc='best');"
   ]
  },
  {
   "cell_type": "markdown",
   "metadata": {},
   "source": [
    "# Try 2 ODES"
   ]
  },
  {
   "cell_type": "markdown",
   "metadata": {},
   "source": [
    "Consider the ode:\n",
    "$$\n",
    "y_1' = y_1, \\\\\n",
    "y_2' = y_1 - y_2,\n",
    "$$\n",
    "\n",
    "Initial Condition:\n",
    "$$\n",
    "y_1(0) = 1, \\\\\n",
    "y_2(0) = 2\n",
    "$$\n",
    "\n",
    "\n",
    "True solution (solved by the numerical way):\n",
    "$$\n",
    "y_1 = e^x, \\\\\n",
    "y_2 = \\frac{1}{2}e^x + \\frac{3}{2}e^{-x}\n",
    "$$"
   ]
  },
  {
   "cell_type": "code",
   "execution_count": 110,
   "metadata": {},
   "outputs": [],
   "source": [
    "# N is a Neural Network - This is exactly the network used by Lagaris et al. 1997\n",
    "N_1 = nn.Sequential(nn.Linear(1, 50), nn.Sigmoid(), nn.Linear(50,1, bias=False))\n",
    "N_2 = nn.Sequential(nn.Linear(1, 50), nn.Sigmoid(), nn.Linear(50,1, bias=False))\n",
    "\n",
    "# Initial condition\n",
    "A_1 = 1.\n",
    "A_2 = 2.\n",
    "\n",
    "# The right hand side function\n",
    "f_1 = lambda y_1: y_1\n",
    "f_2 = lambda y_1, y_2: y_1 - y_2\n",
    "\n",
    "# The loss function\n",
    "def loss(x):\n",
    "    x.requires_grad = True\n",
    "    outputs_1 = N_1(x)\n",
    "    outputs_2 = N_2(x)\n",
    "    drivative_1 = torch.autograd.grad(outputs_1, x, grad_outputs=torch.ones_like(outputs_1),\n",
    "                                  create_graph=True)[0]\n",
    "    drivative_2 = torch.autograd.grad(outputs_2, x, grad_outputs=torch.ones_like(outputs_2),\n",
    "                                  create_graph=True)[0]\n",
    "    return torch.mean((drivative_1 - f_1(outputs_1)) ** 2 + (N_1(torch.zeros_like(x)) - A_1) ** 2 \n",
    "                      + (drivative_2 - f_2(outputs_1, outputs_2)) ** 2 + (N_2(torch.zeros_like(x)) - A_2) ** 2)"
   ]
  },
  {
   "cell_type": "code",
   "execution_count": 111,
   "metadata": {},
   "outputs": [
    {
     "name": "stdout",
     "output_type": "stream",
     "text": [
      "[[-0.10636434]\n",
      " [-0.12252465]\n",
      " [-0.13855267]\n",
      " [-0.1542435 ]\n",
      " [-0.1694107 ]\n",
      " [-0.18389517]\n",
      " [-0.19757083]\n",
      " [-0.21034676]\n",
      " [-0.22216785]\n",
      " [-0.23301184]\n",
      " [-0.24288511]\n",
      " [-0.2518174 ]\n",
      " [-0.25985587]\n",
      " [-0.26706016]\n",
      " [-0.2734975 ]\n",
      " [-0.27923846]\n",
      " [-0.28435415]\n",
      " [-0.28891352]\n",
      " [-0.2929821 ]\n",
      " [-0.29662067]\n",
      " [-0.29988497]\n",
      " [-0.3028251 ]\n",
      " [-0.30548584]\n",
      " [-0.3079067 ]\n",
      " [-0.31012225]\n",
      " [-0.31216264]\n",
      " [-0.314054  ]\n",
      " [-0.31581855]\n",
      " [-0.3174755 ]\n",
      " [-0.31904095]\n",
      " [-0.32052863]\n",
      " [-0.32195023]\n",
      " [-0.32331544]\n",
      " [-0.3246321 ]\n",
      " [-0.32590717]\n",
      " [-0.32714587]\n",
      " [-0.32835296]\n",
      " [-0.32953203]\n",
      " [-0.33068612]\n",
      " [-0.33181754]\n",
      " [-0.33292818]\n",
      " [-0.33401972]\n",
      " [-0.33509314]\n",
      " [-0.33614948]\n",
      " [-0.33718944]\n",
      " [-0.33821335]\n",
      " [-0.33922186]\n",
      " [-0.3402151 ]\n",
      " [-0.34119326]\n",
      " [-0.34215647]\n",
      " [-0.3431049 ]\n",
      " [-0.34403855]\n",
      " [-0.34495735]\n",
      " [-0.3458616 ]\n",
      " [-0.34675092]\n",
      " [-0.3476256 ]\n",
      " [-0.3484856 ]\n",
      " [-0.34933087]\n",
      " [-0.35016155]\n",
      " [-0.35097766]\n",
      " [-0.35177922]\n",
      " [-0.3525664 ]\n",
      " [-0.35333908]\n",
      " [-0.3540975 ]\n",
      " [-0.35484177]\n",
      " [-0.355572  ]\n",
      " [-0.35628825]\n",
      " [-0.35699075]\n",
      " [-0.35767955]\n",
      " [-0.35835493]\n",
      " [-0.35901707]\n",
      " [-0.35966587]\n",
      " [-0.36030188]\n",
      " [-0.36092508]\n",
      " [-0.3615356 ]\n",
      " [-0.36213368]\n",
      " [-0.3627196 ]\n",
      " [-0.36329347]\n",
      " [-0.36385557]\n",
      " [-0.36440602]\n",
      " [-0.36494505]\n",
      " [-0.36547288]\n",
      " [-0.36598963]\n",
      " [-0.36649567]\n",
      " [-0.366991  ]\n",
      " [-0.36747593]\n",
      " [-0.36795065]\n",
      " [-0.36841536]\n",
      " [-0.36887023]\n",
      " [-0.36931545]\n",
      " [-0.3697512 ]\n",
      " [-0.37017775]\n",
      " [-0.37059522]\n",
      " [-0.3710037 ]\n",
      " [-0.37140357]\n",
      " [-0.37179497]\n",
      " [-0.37217802]\n",
      " [-0.3725528 ]\n",
      " [-0.37291974]\n",
      " [-0.37327874]]\n"
     ]
    },
    {
     "data": {
      "image/png": "[encoded data removed]",
      "text/plain": [
       "<Figure size 600x400 with 1 Axes>"
      ]
     },
     "metadata": {
      "needs_background": "light"
     },
     "output_type": "display_data"
    }
   ],
   "source": [
    "# Optimize (same algorithm as in Lagaris)\n",
    "optimizer = torch.optim.LBFGS(N.parameters())\n",
    "\n",
    "# The collocation points used by Lagaris\n",
    "x = torch.Tensor(np.linspace(0, 20, 100)[:, None])\n",
    "\n",
    "# Run the optimizer\n",
    "def closure():\n",
    "    optimizer.zero_grad()\n",
    "    l = loss(x)\n",
    "    l.backward()\n",
    "    return l\n",
    "    \n",
    "for i in range(1000):\n",
    "    optimizer.step(closure)\n",
    "\n",
    "# Let's compare the result to the true solution\n",
    "xx = np.linspace(0, 20, 100)[:, None]\n",
    "with torch.no_grad():\n",
    "    yy = N_1(torch.Tensor(xx)).numpy()\n",
    "\n",
    "\n",
    "yt = np.exp(xx)\n",
    "print(yy)\n",
    "print(yt)\n",
    "\n",
    "fig, ax = plt.subplots(dpi=100)\n",
    "ax.plot(xx, yt, label='True')\n",
    "ax.plot(xx, yy, '--', label='Neural network approximation')\n",
    "ax.set_xlabel('$x$')\n",
    "ax.set_ylabel('$\\Psi(x)$')\n",
    "plt.legend(loc='best');"
   ]
  },
  {
   "cell_type": "code",
   "execution_count": null,
   "metadata": {},
   "outputs": [],
   "source": []
  }
 ],
 "metadata": {
  "interpreter": {
   "hash": "916dbcbb3f70747c44a77c7bcd40155683ae19c65e1c03b4aa3499c5328201f1"
  },
  "kernelspec": {
   "display_name": "Python 3 (ipykernel)",
   "language": "python",
   "name": "python3"
  },
  "language_info": {
   "codemirror_mode": {
    "name": "ipython",
    "version": 3
   },
   "file_extension": ".py",
   "mimetype": "text/x-python",
   "name": "python",
   "nbconvert_exporter": "python",
   "pygments_lexer": "ipython3",
   "version": "3.8.10"
  }
 },
 "nbformat": 4,
 "nbformat_minor": 2
}
