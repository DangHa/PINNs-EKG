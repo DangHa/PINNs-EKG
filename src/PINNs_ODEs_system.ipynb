{
 "cells": [
  {
   "cell_type": "code",
   "execution_count": 1,
   "id": "74c84d7e",
   "metadata": {},
   "outputs": [],
   "source": [
    "## let's import the relevant libraries\n",
    "import torch\n",
    "import torch.nn as nn\n",
    "import matplotlib.pyplot as plt\n",
    "import numpy as np\n",
    "\n",
    "## check if GPU is available and use it; otherwise use CPU\n",
    "# device = torch.device(\"cuda:0\" if torch.cuda.is_available() else \"cpu\")\n",
    "device = torch.device(\"cpu\")"
   ]
  },
  {
   "cell_type": "markdown",
   "id": "1ef1d123",
   "metadata": {},
   "source": [
    "Consider the ode:\n",
    "$$\n",
    "y_1' = y_1, \\\\\n",
    "y_2' = y_1 - y_2,\n",
    "$$\n",
    "\n",
    "Initial Condition:\n",
    "$$\n",
    "y_1(0) = 1, \\\\\n",
    "y_2(0) = 2\n",
    "$$\n",
    "\n",
    "\n",
    "True solution (solved by the numerical way):\n",
    "$$\n",
    "y_1 = e^x, \\\\\n",
    "y_2 = \\frac{1}{2}e^x + \\frac{3}{2}e^{-x}\n",
    "$$"
   ]
  },
  {
   "cell_type": "code",
   "execution_count": 2,
   "id": "4b076f22",
   "metadata": {},
   "outputs": [],
   "source": [
    "# data range\n",
    "x = torch.Tensor(np.linspace(0, 2, 10)[:, None])\n",
    "\n",
    "learning_rate = 0.001\n",
    "n_epoch = 100"
   ]
  },
  {
   "cell_type": "code",
   "execution_count": 3,
   "id": "e899bd9f",
   "metadata": {},
   "outputs": [],
   "source": [
    "# full connected network\n",
    "class NeuralNet(nn.Module):\n",
    "    def __init__(self, input_size, hidden_size, num_classes):\n",
    "        super(NeuralNet, self).__init__()\n",
    "        self.l1 = nn.Linear(input_size, hidden_size)\n",
    "        self.relu = nn.ReLU()\n",
    "        self.l2 = nn.Linear(hidden_size, num_classes)\n",
    "    \n",
    "    def forward(self, x):\n",
    "        out = self.l1(x)\n",
    "        out = self.relu(out)\n",
    "        out = self.l2(out)\n",
    "        return out"
   ]
  },
  {
   "cell_type": "code",
   "execution_count": 4,
   "id": "6cefd35f",
   "metadata": {},
   "outputs": [],
   "source": [
    "# N is a Neural Network - has 1 hidden layer\n",
    "N = NeuralNet(1, 50, 2).to(device)\n",
    "\n",
    "# Initial condition\n",
    "A = torch.tensor([1., 2.])\n",
    "\n",
    "# The Psi_t function\n",
    "Psi_t = lambda x: A + x * N(x)\n",
    "\n",
    "# The right hand side function\n",
    "f = lambda x, y_1, y_2: torch.stack([y_1, y_1 - y_2])"
   ]
  },
  {
   "cell_type": "code",
   "execution_count": null,
   "id": "d335f04e",
   "metadata": {},
   "outputs": [],
   "source": [
    "def derivative"
   ]
  },
  {
   "cell_type": "code",
   "execution_count": 122,
   "id": "79cc79dd",
   "metadata": {},
   "outputs": [
    {
     "name": "stdout",
     "output_type": "stream",
     "text": [
      "torch.Size([10, 2, 10, 1])\n"
     ]
    },
    {
     "ename": "NameError",
     "evalue": "name 'Psi_t_x' is not defined",
     "output_type": "error",
     "traceback": [
      "\u001b[0;31m---------------------------------------------------------------------------\u001b[0m",
      "\u001b[0;31mNameError\u001b[0m                                 Traceback (most recent call last)",
      "\u001b[1;32m/home/one_miracle/workspace/PINNs/PINNs-project/src/PINNs_ODEs_system.ipynb Cell 7'\u001b[0m in \u001b[0;36m<cell line: 21>\u001b[0;34m()\u001b[0m\n\u001b[1;32m     <a href='vscode-notebook-cell:/home/one_miracle/workspace/PINNs/PINNs-project/src/PINNs_ODEs_system.ipynb#ch0000006?line=19'>20</a>\u001b[0m \u001b[39m# traning loop\u001b[39;00m\n\u001b[1;32m     <a href='vscode-notebook-cell:/home/one_miracle/workspace/PINNs/PINNs-project/src/PINNs_ODEs_system.ipynb#ch0000006?line=20'>21</a>\u001b[0m \u001b[39mfor\u001b[39;00m epoch \u001b[39min\u001b[39;00m \u001b[39mrange\u001b[39m(n_epoch):\n\u001b[1;32m     <a href='vscode-notebook-cell:/home/one_miracle/workspace/PINNs/PINNs-project/src/PINNs_ODEs_system.ipynb#ch0000006?line=21'>22</a>\u001b[0m     \u001b[39m# forward\u001b[39;00m\n\u001b[0;32m---> <a href='vscode-notebook-cell:/home/one_miracle/workspace/PINNs/PINNs-project/src/PINNs_ODEs_system.ipynb#ch0000006?line=22'>23</a>\u001b[0m     l \u001b[39m=\u001b[39m loss_ode(x)\n\u001b[1;32m     <a href='vscode-notebook-cell:/home/one_miracle/workspace/PINNs/PINNs-project/src/PINNs_ODEs_system.ipynb#ch0000006?line=24'>25</a>\u001b[0m     \u001b[39m# backward\u001b[39;00m\n\u001b[1;32m     <a href='vscode-notebook-cell:/home/one_miracle/workspace/PINNs/PINNs-project/src/PINNs_ODEs_system.ipynb#ch0000006?line=25'>26</a>\u001b[0m     optimizer\u001b[39m.\u001b[39mzero_grad()\n",
      "\u001b[1;32m/home/one_miracle/workspace/PINNs/PINNs-project/src/PINNs_ODEs_system.ipynb Cell 7'\u001b[0m in \u001b[0;36mloss_ode\u001b[0;34m(x)\u001b[0m\n\u001b[1;32m      <a href='vscode-notebook-cell:/home/one_miracle/workspace/PINNs/PINNs-project/src/PINNs_ODEs_system.ipynb#ch0000006?line=7'>8</a>\u001b[0m \u001b[39mprint\u001b[39m(jac\u001b[39m.\u001b[39msize())\n\u001b[1;32m      <a href='vscode-notebook-cell:/home/one_miracle/workspace/PINNs/PINNs-project/src/PINNs_ODEs_system.ipynb#ch0000006?line=8'>9</a>\u001b[0m \u001b[39m# Psi_t_x =   [torch.autograd.grad(t, \u001b[39;00m\n\u001b[1;32m     <a href='vscode-notebook-cell:/home/one_miracle/workspace/PINNs/PINNs-project/src/PINNs_ODEs_system.ipynb#ch0000006?line=9'>10</a>\u001b[0m \u001b[39m#                                 x, \u001b[39;00m\n\u001b[1;32m     <a href='vscode-notebook-cell:/home/one_miracle/workspace/PINNs/PINNs-project/src/PINNs_ODEs_system.ipynb#ch0000006?line=10'>11</a>\u001b[0m \u001b[39m#                                 grad_outputs=torch.ones_like(x)) \u001b[39;00m\n\u001b[1;32m     <a href='vscode-notebook-cell:/home/one_miracle/workspace/PINNs/PINNs-project/src/PINNs_ODEs_system.ipynb#ch0000006?line=11'>12</a>\u001b[0m \u001b[39m#             for t in [outputs[:,0],outputs[:,1]]]\u001b[39;00m\n\u001b[1;32m     <a href='vscode-notebook-cell:/home/one_miracle/workspace/PINNs/PINNs-project/src/PINNs_ODEs_system.ipynb#ch0000006?line=12'>13</a>\u001b[0m \n\u001b[1;32m     <a href='vscode-notebook-cell:/home/one_miracle/workspace/PINNs/PINNs-project/src/PINNs_ODEs_system.ipynb#ch0000006?line=13'>14</a>\u001b[0m \u001b[39m# print(Psi_t_x)\u001b[39;00m\n\u001b[0;32m---> <a href='vscode-notebook-cell:/home/one_miracle/workspace/PINNs/PINNs-project/src/PINNs_ODEs_system.ipynb#ch0000006?line=14'>15</a>\u001b[0m \u001b[39mreturn\u001b[39;00m torch\u001b[39m.\u001b[39mmean((Psi_t_x \u001b[39m-\u001b[39m f(x, outputs[:,\u001b[39m0\u001b[39m], outputs[:,\u001b[39m1\u001b[39m])) \u001b[39m*\u001b[39m\u001b[39m*\u001b[39m \u001b[39m2\u001b[39m)\n",
      "\u001b[0;31mNameError\u001b[0m: name 'Psi_t_x' is not defined"
     ]
    }
   ],
   "source": [
    "# The loss function\n",
    "def loss_ode(x):\n",
    "    x.requires_grad = True\n",
    "\n",
    "    outputs = Psi_t(x)\n",
    "    \n",
    "    \n",
    "    print(jac.size())\n",
    "    # Psi_t_x =   [torch.autograd.grad(t, \n",
    "    #                                 x, \n",
    "    #                                 grad_outputs=torch.ones_like(x)) \n",
    "    #             for t in [outputs[:,0],outputs[:,1]]]\n",
    "\n",
    "    # print(Psi_t_x)\n",
    "    return torch.mean((Psi_t_x - f(x, outputs[:,0], outputs[:,1])) ** 2)\n",
    "\n",
    "# Optimize\n",
    "optimizer = torch.optim.Adam(N.parameters(), lr=learning_rate) \n",
    "\n",
    "# traning loop\n",
    "for epoch in range(n_epoch):\n",
    "    # forward\n",
    "    l = loss_ode(x)\n",
    "\n",
    "    # backward\n",
    "    optimizer.zero_grad()\n",
    "    l.backward()\n",
    "    optimizer.step()\n",
    "\n",
    "    if (epoch+1) % 10 == 0:\n",
    "        print(f'epoch {epoch+1}, loss = {l.item():.4f}')"
   ]
  },
  {
   "cell_type": "code",
   "execution_count": 117,
   "id": "e6ff0a7c",
   "metadata": {},
   "outputs": [
    {
     "name": "stdout",
     "output_type": "stream",
     "text": [
      "torch.Size([10, 1])\n",
      "torch.Size([10, 2])\n"
     ]
    },
    {
     "ename": "RuntimeError",
     "evalue": "Mismatch in shape: grad_output[0] has a shape of torch.Size([10, 1]) and output[0] has a shape of torch.Size([10]).",
     "output_type": "error",
     "traceback": [
      "\u001b[0;31m---------------------------------------------------------------------------\u001b[0m",
      "\u001b[0;31mRuntimeError\u001b[0m                              Traceback (most recent call last)",
      "\u001b[1;32m/home/one_miracle/workspace/PINNs/PINNs-project/src/PINNs_ODEs_system.ipynb Cell 8'\u001b[0m in \u001b[0;36m<cell line: 5>\u001b[0;34m()\u001b[0m\n\u001b[1;32m      <a href='vscode-notebook-cell:/home/one_miracle/workspace/PINNs/PINNs-project/src/PINNs_ODEs_system.ipynb#ch0000007?line=3'>4</a>\u001b[0m \u001b[39m# traning loop\u001b[39;00m\n\u001b[1;32m      <a href='vscode-notebook-cell:/home/one_miracle/workspace/PINNs/PINNs-project/src/PINNs_ODEs_system.ipynb#ch0000007?line=4'>5</a>\u001b[0m \u001b[39mfor\u001b[39;00m epoch \u001b[39min\u001b[39;00m \u001b[39mrange\u001b[39m(n_epoch):\n\u001b[1;32m      <a href='vscode-notebook-cell:/home/one_miracle/workspace/PINNs/PINNs-project/src/PINNs_ODEs_system.ipynb#ch0000007?line=5'>6</a>\u001b[0m     \u001b[39m# forward\u001b[39;00m\n\u001b[0;32m----> <a href='vscode-notebook-cell:/home/one_miracle/workspace/PINNs/PINNs-project/src/PINNs_ODEs_system.ipynb#ch0000007?line=6'>7</a>\u001b[0m     l \u001b[39m=\u001b[39m loss_ode(x)\n\u001b[1;32m      <a href='vscode-notebook-cell:/home/one_miracle/workspace/PINNs/PINNs-project/src/PINNs_ODEs_system.ipynb#ch0000007?line=8'>9</a>\u001b[0m     \u001b[39m# backward\u001b[39;00m\n\u001b[1;32m     <a href='vscode-notebook-cell:/home/one_miracle/workspace/PINNs/PINNs-project/src/PINNs_ODEs_system.ipynb#ch0000007?line=9'>10</a>\u001b[0m     optimizer\u001b[39m.\u001b[39mzero_grad()\n",
      "\u001b[1;32m/home/one_miracle/workspace/PINNs/PINNs-project/src/PINNs_ODEs_system.ipynb Cell 7'\u001b[0m in \u001b[0;36mloss_ode\u001b[0;34m(x)\u001b[0m\n\u001b[1;32m      <a href='vscode-notebook-cell:/home/one_miracle/workspace/PINNs/PINNs-project/src/PINNs_ODEs_system.ipynb#ch0000006?line=4'>5</a>\u001b[0m outputs \u001b[39m=\u001b[39m Psi_t(x)\n\u001b[1;32m      <a href='vscode-notebook-cell:/home/one_miracle/workspace/PINNs/PINNs-project/src/PINNs_ODEs_system.ipynb#ch0000006?line=5'>6</a>\u001b[0m \u001b[39mprint\u001b[39m(torch\u001b[39m.\u001b[39mones_like(outputs)\u001b[39m.\u001b[39msize())\n\u001b[0;32m----> <a href='vscode-notebook-cell:/home/one_miracle/workspace/PINNs/PINNs-project/src/PINNs_ODEs_system.ipynb#ch0000006?line=7'>8</a>\u001b[0m Psi_t_x \u001b[39m=\u001b[39m   [torch\u001b[39m.\u001b[39mautograd\u001b[39m.\u001b[39mgrad(t, \n\u001b[1;32m      <a href='vscode-notebook-cell:/home/one_miracle/workspace/PINNs/PINNs-project/src/PINNs_ODEs_system.ipynb#ch0000006?line=8'>9</a>\u001b[0m                                 x, \n\u001b[1;32m     <a href='vscode-notebook-cell:/home/one_miracle/workspace/PINNs/PINNs-project/src/PINNs_ODEs_system.ipynb#ch0000006?line=9'>10</a>\u001b[0m                                 grad_outputs\u001b[39m=\u001b[39mtorch\u001b[39m.\u001b[39mones_like(x)) \n\u001b[1;32m     <a href='vscode-notebook-cell:/home/one_miracle/workspace/PINNs/PINNs-project/src/PINNs_ODEs_system.ipynb#ch0000006?line=10'>11</a>\u001b[0m             \u001b[39mfor\u001b[39;00m t \u001b[39min\u001b[39;00m [outputs[:,\u001b[39m0\u001b[39m],outputs[:,\u001b[39m1\u001b[39m]]]\n\u001b[1;32m     <a href='vscode-notebook-cell:/home/one_miracle/workspace/PINNs/PINNs-project/src/PINNs_ODEs_system.ipynb#ch0000006?line=12'>13</a>\u001b[0m \u001b[39mprint\u001b[39m(Psi_t_x)\n\u001b[1;32m     <a href='vscode-notebook-cell:/home/one_miracle/workspace/PINNs/PINNs-project/src/PINNs_ODEs_system.ipynb#ch0000006?line=13'>14</a>\u001b[0m \u001b[39mreturn\u001b[39;00m torch\u001b[39m.\u001b[39mmean((Psi_t_x \u001b[39m-\u001b[39m f(x, outputs[:,\u001b[39m0\u001b[39m], outputs[:,\u001b[39m1\u001b[39m])) \u001b[39m*\u001b[39m\u001b[39m*\u001b[39m \u001b[39m2\u001b[39m)\n",
      "\u001b[1;32m/home/one_miracle/workspace/PINNs/PINNs-project/src/PINNs_ODEs_system.ipynb Cell 7'\u001b[0m in \u001b[0;36m<listcomp>\u001b[0;34m(.0)\u001b[0m\n\u001b[1;32m      <a href='vscode-notebook-cell:/home/one_miracle/workspace/PINNs/PINNs-project/src/PINNs_ODEs_system.ipynb#ch0000006?line=4'>5</a>\u001b[0m outputs \u001b[39m=\u001b[39m Psi_t(x)\n\u001b[1;32m      <a href='vscode-notebook-cell:/home/one_miracle/workspace/PINNs/PINNs-project/src/PINNs_ODEs_system.ipynb#ch0000006?line=5'>6</a>\u001b[0m \u001b[39mprint\u001b[39m(torch\u001b[39m.\u001b[39mones_like(outputs)\u001b[39m.\u001b[39msize())\n\u001b[0;32m----> <a href='vscode-notebook-cell:/home/one_miracle/workspace/PINNs/PINNs-project/src/PINNs_ODEs_system.ipynb#ch0000006?line=7'>8</a>\u001b[0m Psi_t_x \u001b[39m=\u001b[39m   [torch\u001b[39m.\u001b[39;49mautograd\u001b[39m.\u001b[39;49mgrad(t, \n\u001b[1;32m      <a href='vscode-notebook-cell:/home/one_miracle/workspace/PINNs/PINNs-project/src/PINNs_ODEs_system.ipynb#ch0000006?line=8'>9</a>\u001b[0m                                 x, \n\u001b[1;32m     <a href='vscode-notebook-cell:/home/one_miracle/workspace/PINNs/PINNs-project/src/PINNs_ODEs_system.ipynb#ch0000006?line=9'>10</a>\u001b[0m                                 grad_outputs\u001b[39m=\u001b[39;49mtorch\u001b[39m.\u001b[39;49mones_like(x)) \n\u001b[1;32m     <a href='vscode-notebook-cell:/home/one_miracle/workspace/PINNs/PINNs-project/src/PINNs_ODEs_system.ipynb#ch0000006?line=10'>11</a>\u001b[0m             \u001b[39mfor\u001b[39;00m t \u001b[39min\u001b[39;00m [outputs[:,\u001b[39m0\u001b[39m],outputs[:,\u001b[39m1\u001b[39m]]]\n\u001b[1;32m     <a href='vscode-notebook-cell:/home/one_miracle/workspace/PINNs/PINNs-project/src/PINNs_ODEs_system.ipynb#ch0000006?line=12'>13</a>\u001b[0m \u001b[39mprint\u001b[39m(Psi_t_x)\n\u001b[1;32m     <a href='vscode-notebook-cell:/home/one_miracle/workspace/PINNs/PINNs-project/src/PINNs_ODEs_system.ipynb#ch0000006?line=13'>14</a>\u001b[0m \u001b[39mreturn\u001b[39;00m torch\u001b[39m.\u001b[39mmean((Psi_t_x \u001b[39m-\u001b[39m f(x, outputs[:,\u001b[39m0\u001b[39m], outputs[:,\u001b[39m1\u001b[39m])) \u001b[39m*\u001b[39m\u001b[39m*\u001b[39m \u001b[39m2\u001b[39m)\n",
      "File \u001b[0;32m~/.local/lib/python3.8/site-packages/torch/autograd/__init__.py:218\u001b[0m, in \u001b[0;36mgrad\u001b[0;34m(outputs, inputs, grad_outputs, retain_graph, create_graph, only_inputs, allow_unused)\u001b[0m\n\u001b[1;32m    <a href='file:///home/one_miracle/.local/lib/python3.8/site-packages/torch/autograd/__init__.py?line=212'>213</a>\u001b[0m     warnings\u001b[39m.\u001b[39mwarn(\u001b[39m\"\u001b[39m\u001b[39monly_inputs argument is deprecated and is ignored now \u001b[39m\u001b[39m\"\u001b[39m\n\u001b[1;32m    <a href='file:///home/one_miracle/.local/lib/python3.8/site-packages/torch/autograd/__init__.py?line=213'>214</a>\u001b[0m                   \u001b[39m\"\u001b[39m\u001b[39m(defaults to True). To accumulate gradient for other \u001b[39m\u001b[39m\"\u001b[39m\n\u001b[1;32m    <a href='file:///home/one_miracle/.local/lib/python3.8/site-packages/torch/autograd/__init__.py?line=214'>215</a>\u001b[0m                   \u001b[39m\"\u001b[39m\u001b[39mparts of the graph, please use torch.autograd.backward.\u001b[39m\u001b[39m\"\u001b[39m)\n\u001b[1;32m    <a href='file:///home/one_miracle/.local/lib/python3.8/site-packages/torch/autograd/__init__.py?line=216'>217</a>\u001b[0m grad_outputs_ \u001b[39m=\u001b[39m _tensor_or_tensors_to_tuple(grad_outputs, \u001b[39mlen\u001b[39m(outputs))\n\u001b[0;32m--> <a href='file:///home/one_miracle/.local/lib/python3.8/site-packages/torch/autograd/__init__.py?line=217'>218</a>\u001b[0m grad_outputs_ \u001b[39m=\u001b[39m _make_grads(outputs, grad_outputs_)\n\u001b[1;32m    <a href='file:///home/one_miracle/.local/lib/python3.8/site-packages/torch/autograd/__init__.py?line=219'>220</a>\u001b[0m \u001b[39mif\u001b[39;00m retain_graph \u001b[39mis\u001b[39;00m \u001b[39mNone\u001b[39;00m:\n\u001b[1;32m    <a href='file:///home/one_miracle/.local/lib/python3.8/site-packages/torch/autograd/__init__.py?line=220'>221</a>\u001b[0m     retain_graph \u001b[39m=\u001b[39m create_graph\n",
      "File \u001b[0;32m~/.local/lib/python3.8/site-packages/torch/autograd/__init__.py:33\u001b[0m, in \u001b[0;36m_make_grads\u001b[0;34m(outputs, grads)\u001b[0m\n\u001b[1;32m     <a href='file:///home/one_miracle/.local/lib/python3.8/site-packages/torch/autograd/__init__.py?line=30'>31</a>\u001b[0m \u001b[39mif\u001b[39;00m \u001b[39misinstance\u001b[39m(grad, torch\u001b[39m.\u001b[39mTensor):\n\u001b[1;32m     <a href='file:///home/one_miracle/.local/lib/python3.8/site-packages/torch/autograd/__init__.py?line=31'>32</a>\u001b[0m     \u001b[39mif\u001b[39;00m \u001b[39mnot\u001b[39;00m out\u001b[39m.\u001b[39mshape \u001b[39m==\u001b[39m grad\u001b[39m.\u001b[39mshape:\n\u001b[0;32m---> <a href='file:///home/one_miracle/.local/lib/python3.8/site-packages/torch/autograd/__init__.py?line=32'>33</a>\u001b[0m         \u001b[39mraise\u001b[39;00m \u001b[39mRuntimeError\u001b[39;00m(\u001b[39m\"\u001b[39m\u001b[39mMismatch in shape: grad_output[\u001b[39m\u001b[39m\"\u001b[39m\n\u001b[1;32m     <a href='file:///home/one_miracle/.local/lib/python3.8/site-packages/torch/autograd/__init__.py?line=33'>34</a>\u001b[0m                            \u001b[39m+\u001b[39m \u001b[39mstr\u001b[39m(grads\u001b[39m.\u001b[39mindex(grad)) \u001b[39m+\u001b[39m \u001b[39m\"\u001b[39m\u001b[39m] has a shape of \u001b[39m\u001b[39m\"\u001b[39m\n\u001b[1;32m     <a href='file:///home/one_miracle/.local/lib/python3.8/site-packages/torch/autograd/__init__.py?line=34'>35</a>\u001b[0m                            \u001b[39m+\u001b[39m \u001b[39mstr\u001b[39m(grad\u001b[39m.\u001b[39mshape) \u001b[39m+\u001b[39m \u001b[39m\"\u001b[39m\u001b[39m and output[\u001b[39m\u001b[39m\"\u001b[39m\n\u001b[1;32m     <a href='file:///home/one_miracle/.local/lib/python3.8/site-packages/torch/autograd/__init__.py?line=35'>36</a>\u001b[0m                            \u001b[39m+\u001b[39m \u001b[39mstr\u001b[39m(outputs\u001b[39m.\u001b[39mindex(out)) \u001b[39m+\u001b[39m \u001b[39m\"\u001b[39m\u001b[39m] has a shape of \u001b[39m\u001b[39m\"\u001b[39m\n\u001b[1;32m     <a href='file:///home/one_miracle/.local/lib/python3.8/site-packages/torch/autograd/__init__.py?line=36'>37</a>\u001b[0m                            \u001b[39m+\u001b[39m \u001b[39mstr\u001b[39m(out\u001b[39m.\u001b[39mshape) \u001b[39m+\u001b[39m \u001b[39m\"\u001b[39m\u001b[39m.\u001b[39m\u001b[39m\"\u001b[39m)\n\u001b[1;32m     <a href='file:///home/one_miracle/.local/lib/python3.8/site-packages/torch/autograd/__init__.py?line=37'>38</a>\u001b[0m     \u001b[39mif\u001b[39;00m out\u001b[39m.\u001b[39mdtype\u001b[39m.\u001b[39mis_complex \u001b[39m!=\u001b[39m grad\u001b[39m.\u001b[39mdtype\u001b[39m.\u001b[39mis_complex:\n\u001b[1;32m     <a href='file:///home/one_miracle/.local/lib/python3.8/site-packages/torch/autograd/__init__.py?line=38'>39</a>\u001b[0m         \u001b[39mraise\u001b[39;00m \u001b[39mRuntimeError\u001b[39;00m(\u001b[39m\"\u001b[39m\u001b[39mFor complex Tensors, both grad_output and output\u001b[39m\u001b[39m\"\u001b[39m\n\u001b[1;32m     <a href='file:///home/one_miracle/.local/lib/python3.8/site-packages/torch/autograd/__init__.py?line=39'>40</a>\u001b[0m                            \u001b[39m\"\u001b[39m\u001b[39m are required to have the same dtype.\u001b[39m\u001b[39m\"\u001b[39m\n\u001b[1;32m     <a href='file:///home/one_miracle/.local/lib/python3.8/site-packages/torch/autograd/__init__.py?line=40'>41</a>\u001b[0m                            \u001b[39m\"\u001b[39m\u001b[39m Mismatch in dtype: grad_output[\u001b[39m\u001b[39m\"\u001b[39m\n\u001b[0;32m   (...)\u001b[0m\n\u001b[1;32m     <a href='file:///home/one_miracle/.local/lib/python3.8/site-packages/torch/autograd/__init__.py?line=43'>44</a>\u001b[0m                            \u001b[39m+\u001b[39m \u001b[39mstr\u001b[39m(outputs\u001b[39m.\u001b[39mindex(out)) \u001b[39m+\u001b[39m \u001b[39m\"\u001b[39m\u001b[39m] has a dtype of \u001b[39m\u001b[39m\"\u001b[39m\n\u001b[1;32m     <a href='file:///home/one_miracle/.local/lib/python3.8/site-packages/torch/autograd/__init__.py?line=44'>45</a>\u001b[0m                            \u001b[39m+\u001b[39m \u001b[39mstr\u001b[39m(out\u001b[39m.\u001b[39mdtype) \u001b[39m+\u001b[39m \u001b[39m\"\u001b[39m\u001b[39m.\u001b[39m\u001b[39m\"\u001b[39m)\n",
      "\u001b[0;31mRuntimeError\u001b[0m: Mismatch in shape: grad_output[0] has a shape of torch.Size([10, 1]) and output[0] has a shape of torch.Size([10])."
     ]
    }
   ],
   "source": [
    "# Let's compare the result to the true solution\n",
    "xx = np.linspace(0, 10, 50)[:, None]\n",
    "with torch.no_grad():\n",
    "    yy = N(torch.Tensor(xx)).numpy()\n",
    "\n",
    "print(yy)\n",
    "yy_0 = yy[:, 0]\n",
    "yy_1 = yy[:, 1]\n",
    "\n",
    "yt = np.exp(xx)\n",
    "\n",
    "fig, ax = plt.subplots(dpi=100)\n",
    "ax.plot(xx, yt,'--', label='True')\n",
    "ax.plot(xx, yy_0, label='PINN approximation')\n",
    "ax.set_xlabel('$x$')\n",
    "ax.set_ylabel('$\\Psi(x)$')\n",
    "plt.legend(loc='best')"
   ]
  }
 ],
 "metadata": {
  "kernelspec": {
   "display_name": "Python 3.8.10 64-bit",
   "language": "python",
   "name": "python3"
  },
  "language_info": {
   "codemirror_mode": {
    "name": "ipython",
    "version": 3
   },
   "file_extension": ".py",
   "mimetype": "text/x-python",
   "name": "python",
   "nbconvert_exporter": "python",
   "pygments_lexer": "ipython3",
   "version": "3.8.10"
  },
  "vscode": {
   "interpreter": {
    "hash": "916dbcbb3f70747c44a77c7bcd40155683ae19c65e1c03b4aa3499c5328201f1"
   }
  }
 },
 "nbformat": 4,
 "nbformat_minor": 5
}
