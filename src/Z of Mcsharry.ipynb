{
 "cells": [
  {
   "cell_type": "code",
   "execution_count": 16,
   "metadata": {},
   "outputs": [],
   "source": [
    "import numpy as np\n",
    "from scipy.integrate import odeint\n",
    "import matplotlib.pyplot as plt\n",
    "import sympy as sp"
   ]
  },
  {
   "cell_type": "code",
   "execution_count": null,
   "metadata": {},
   "outputs": [],
   "source": [
    "# The theta function (need to be defined independent with x and y)\n",
    "theta = lambda t: ...\n",
    "\n",
    "def model(z,t):\n",
    "    dzdt = -(1.2*(theta(-0.2)+np.pi/3)*np.exp(-(theta(-0.2)+np.pi/3)**2/1.25)-z\n",
    "             + -5*(theta(-0.05)+np.pi/12)*np.exp(-(theta(-0.05)+np.pi/12)**2/0.02)-(z-0.15)\n",
    "             + 30*theta(0)*np.exp(-theta(-0.05)**2/0.02)-z\n",
    "             + -7.5*(theta(0.05)-np.pi/12)*np.exp(-(theta(0.05)-np.pi/12)**2/0.02)-(z+0.15)\n",
    "             + 0.75*theta(0.3)*np.exp(-theta(0.3)**2/0.32)-z)\n",
    "    return dzdt\n",
    "\n",
    "# initial condition (peak R)\n",
    "z0 = 1.2\n",
    "\n",
    "# time points\n",
    "t = np.linspace(-0.5,0.5)\n",
    "\n",
    "# solve ODE\n",
    "z = odeint(model,z0,t)\n",
    "\n",
    "# plot results\n",
    "plt.plot(t,z)\n",
    "plt.xlabel('time')\n",
    "plt.ylabel('z')\n",
    "plt.show()"
   ]
  },
  {
   "cell_type": "code",
   "execution_count": null,
   "metadata": {},
   "outputs": [],
   "source": []
  }
 ],
 "metadata": {
  "kernelspec": {
   "display_name": "Python 3 (ipykernel)",
   "language": "python",
   "name": "python3"
  },
  "language_info": {
   "codemirror_mode": {
    "name": "ipython",
    "version": 3
   },
   "file_extension": ".py",
   "mimetype": "text/x-python",
   "name": "python",
   "nbconvert_exporter": "python",
   "pygments_lexer": "ipython3",
   "version": "3.8.10"
  }
 },
 "nbformat": 4,
 "nbformat_minor": 2
}
