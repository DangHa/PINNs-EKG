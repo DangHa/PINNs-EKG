{
 "cells": [
  {
   "cell_type": "code",
   "execution_count": 430,
   "metadata": {},
   "outputs": [],
   "source": [
    "import numpy as np\n",
    "from matplotlib import pyplot as plt\n",
    "from scipy.integrate import odeint\n",
    "import neurokit2 as nk  # Load the package"
   ]
  },
  {
   "cell_type": "markdown",
   "metadata": {},
   "source": [
    "## Neural kit 2 sample"
   ]
  },
  {
   "cell_type": "code",
   "execution_count": 431,
   "metadata": {},
   "outputs": [
    {
     "data": {
      "image/png": "[encoded data removed]",
      "text/plain": [
       "<Figure size 432x288 with 1 Axes>"
      ]
     },
     "metadata": {
      "needs_background": "light"
     },
     "output_type": "display_data"
    }
   ],
   "source": [
    "# use neuralkit2 for McSharry equation\n",
    "\n",
    "simulated_ecg = nk.ecg_simulate(duration=1, sampling_rate=512, heart_rate=100)\n",
    "\n",
    "nk.signal_plot(simulated_ecg, sampling_rate=512, color=\"black\") "
   ]
  },
  {
   "cell_type": "markdown",
   "metadata": {},
   "source": [
    "## Solve system of ODE"
   ]
  },
  {
   "cell_type": "code",
   "execution_count": 432,
   "metadata": {},
   "outputs": [],
   "source": [
    "## let's import the relevant libraries\n",
    "import torch\n",
    "import torch.nn as nn\n",
    "from torch.autograd.functional import jacobian\n",
    "from torch.utils.tensorboard import SummaryWriter\n",
    "import matplotlib.pyplot as plt\n",
    "import numpy as np\n",
    "\n",
    "## check if GPU is available and use it; otherwise use CPU\n",
    "# device = torch.device(\"cuda:0\" if torch.cuda.is_available() else \"cpu\")\n",
    "device = torch.device(\"cpu\")\n",
    "\n",
    "writer = SummaryWriter('runs/mcsharry')"
   ]
  },
  {
   "cell_type": "code",
   "execution_count": 433,
   "metadata": {},
   "outputs": [
    {
     "ename": "SyntaxError",
     "evalue": "invalid syntax (4127980370.py, line 19)",
     "output_type": "error",
     "traceback": [
      "\u001b[0;36m  Input \u001b[0;32mIn [433]\u001b[0;36m\u001b[0m\n\u001b[0;31m    Net = NeuralNet(1, 50s, 3).to(device)\u001b[0m\n\u001b[0m                         ^\u001b[0m\n\u001b[0;31mSyntaxError\u001b[0m\u001b[0;31m:\u001b[0m invalid syntax\n"
     ]
    }
   ],
   "source": [
    "# full connected network\n",
    "class NeuralNet(nn.Module):\n",
    "    def __init__(self, input_size, hidden_size, num_classes):\n",
    "        super(NeuralNet, self).__init__()\n",
    "        self.l1 = nn.Linear(input_size, hidden_size)\n",
    "        self.silu = nn.SiLU()\n",
    "        self.l2 = nn.Linear(hidden_size, hidden_size)\n",
    "        self.l3 = nn.Linear(hidden_size, num_classes)\n",
    "    \n",
    "    def forward(self, x):\n",
    "        out = self.l1(x)\n",
    "        out = self.silu(out)\n",
    "        out = self.l2(out)\n",
    "        out = self.silu(out)\n",
    "        out = self.l3(out)\n",
    "        return out\n",
    "\n",
    "# N is a Neural Network - has 1 hidden layer\n",
    "Net = NeuralNet(1, 50, 3).to(device)"
   ]
  },
  {
   "cell_type": "code",
   "execution_count": null,
   "metadata": {},
   "outputs": [],
   "source": [
    "def derivative(func, input):\n",
    "    jac = jacobian(func, input)\n",
    "\n",
    "    i = np.arange(len(input))\n",
    "    return jac[i, :, i].reshape((len(input), 3))"
   ]
  },
  {
   "cell_type": "markdown",
   "metadata": {},
   "source": [
    "## McSharry equation"
   ]
  },
  {
   "cell_type": "code",
   "execution_count": null,
   "metadata": {},
   "outputs": [],
   "source": [
    "import math\n",
    "import numpy as np\n",
    "import pandas as pd\n",
    "import scipy\n"
   ]
  },
  {
   "cell_type": "code",
   "execution_count": null,
   "metadata": {},
   "outputs": [],
   "source": [
    "def signal_resample(\n",
    "    signal, desired_length=None, sampling_rate=None, desired_sampling_rate=None, method=\"interpolation\"\n",
    "):\n",
    "    if desired_length is None:\n",
    "        desired_length = int(np.round(len(signal) * desired_sampling_rate / sampling_rate))\n",
    "\n",
    "    # Sanity checks\n",
    "    if len(signal) == desired_length:\n",
    "        return signal\n",
    "\n",
    "    resampled = _resample_interpolation(signal, desired_length)\n",
    "\n",
    "    return resampled\n",
    "\n",
    "\n",
    "# =============================================================================\n",
    "# Methods\n",
    "# =============================================================================\n",
    "def _resample_interpolation(signal, desired_length):\n",
    "    resampled_signal = scipy.ndimage.zoom(signal, desired_length / len(signal))\n",
    "    return resampled_signal"
   ]
  },
  {
   "cell_type": "code",
   "execution_count": null,
   "metadata": {},
   "outputs": [],
   "source": [
    "# =============================================================================\n",
    "# ECGSYN\n",
    "# =============================================================================\n",
    "def _ecg_simulate_ecgsyn(\n",
    "    sfecg=256,\n",
    "    N=256,\n",
    "    Anoise=0,\n",
    "    hrmean=60,\n",
    "    hrstd=1,\n",
    "    lfhfratio=0.5,\n",
    "    sfint=512.0,\n",
    "    ti=(-70, -15, 0, 15, 100),\n",
    "    ai=(1.2, -5, 30, -7.5, 0.75),\n",
    "    bi=(0.25, 0.1, 0.1, 0.1, 0.4),\n",
    "):\n",
    "\n",
    "    if not isinstance(ti, np.ndarray):\n",
    "        ti = np.array(ti)\n",
    "    if not isinstance(ai, np.ndarray):\n",
    "        ai = np.array(ai)\n",
    "    if not isinstance(bi, np.ndarray):\n",
    "        bi = np.array(bi)\n",
    "\n",
    "    ti = ti * np.pi / 180\n",
    "\n",
    "    # Adjust extrema parameters for mean heart rate\n",
    "    hrfact = np.sqrt(hrmean / 60)\n",
    "    hrfact2 = np.sqrt(hrfact)\n",
    "    bi = hrfact * bi\n",
    "    ti = np.array([hrfact2, hrfact, 1, hrfact, hrfact2]) * ti\n",
    "\n",
    "    # Check that sfint is an integer multiple of sfecg\n",
    "    q = np.round(sfint / sfecg)\n",
    "    qd = sfint / sfecg\n",
    "    if q != qd:\n",
    "        raise ValueError(\n",
    "            \"Internal sampling frequency (sfint) must be an integer multiple of the ECG sampling frequency\"\n",
    "            \" (sfecg). Your current choices are: sfecg = \" + str(sfecg) + \" and sfint = \" + str(sfint) + \".\"\n",
    "        )\n",
    "\n",
    "    # Define frequency parameters for rr process\n",
    "    # flo and fhi correspond to the Mayer waves and respiratory rate respectively\n",
    "    flo = 0.1\n",
    "    fhi = 0.25\n",
    "    flostd = 0.01\n",
    "    fhistd = 0.01\n",
    " \n",
    "    # Calculate time scales for rr and total output\n",
    "    sfrr = 1\n",
    "    trr = 1 / sfrr\n",
    "    rrmean = 60 / hrmean\n",
    "    n = 2 ** (np.ceil(np.log2(N * rrmean / trr)))\n",
    "\n",
    "    rr0 = _ecg_simulate_rrprocess(flo, fhi, flostd, fhistd, lfhfratio, hrmean, hrstd, sfrr, n)\n",
    "\n",
    "    # Upsample rr time series from 1 Hz to sfint Hz\n",
    "    rr = signal_resample(rr0, sampling_rate=1, desired_sampling_rate=sfint)\n",
    "\n",
    "    # Make the rrn time series\n",
    "    dt = 1 / sfint\n",
    "    rrn = np.zeros(len(rr))\n",
    "    tecg = 0\n",
    "    i = 0\n",
    "    while i < len(rr):\n",
    "        tecg += rr[i]\n",
    "        ip = int(np.round(tecg / dt))\n",
    "        rrn[i:ip] = rr[i]\n",
    "        i = ip\n",
    "    Nt = ip\n",
    "\n",
    "    # Intial condition\n",
    "    x0 = torch.tensor([1.0, 0.0, 0.04])\n",
    "\n",
    "    # data range\n",
    "    # t = torch.Tensor(np.linspace(0, (Nt - 1) * dt, int(Nt/10))[:, None])\n",
    "    t = torch.Tensor(np.linspace(0, (Nt - 1) * dt, int(Nt/10))[:, None])\n",
    "\n",
    "    # =============================================================================\n",
    "    # ODE solver by PINNs\n",
    "    # =============================================================================\n",
    "    # loss(t, rrn, torch.tensor(ti), sfint, torch.tensor(ai), torch.tensor(bi), x0)\n",
    "\n",
    "    # Optimize\n",
    "    optimizer = torch.optim.Adam(Net.parameters(), lr=0.01) \n",
    "\n",
    "    n_epoch = 500\n",
    "    # traning loop\n",
    "    for epoch in range(n_epoch):\n",
    "        optimizer.zero_grad()\n",
    "\n",
    "        # forward\n",
    "        l = loss(t, rrn, torch.tensor(ti), sfint, torch.tensor(ai), torch.tensor(bi), x0, epoch)\n",
    "\n",
    "        # backward\n",
    "        l.backward()\n",
    "        optimizer.step()\n",
    "\n",
    "        if (epoch+1) % 20 == 0:\n",
    "            print(f'epoch {epoch+1}, loss = {l.item():.4f}')\n",
    "\n",
    "    return 0\n",
    "\n",
    "# =============================================================================\n",
    "# Loss funtion for PINNs\n",
    "# =============================================================================\n",
    "def loss(t, rr, ti, sfint, ai, bi, X0, epoch):\n",
    "    x, y, z = Net(t).T\n",
    "    dxdt, dydt, dzdt = derivative(Net, t).T\n",
    "\n",
    "    ## x, y dimensions\n",
    "    r0 = 1\n",
    "    a0 = 1.0 - torch.sqrt(x ** 2 + y ** 2) / r0\n",
    "\n",
    "    ip = torch.floor(t * sfint).int()\n",
    "    w0 = torch.tensor(2 * np.pi / rr[torch.minimum(ip, torch.full(ip.size(), len(rr) - 1))]).T\n",
    "\n",
    "    l_x = torch.mean((dxdt - a0 * x + w0 * y)**2)\n",
    "    l_y = torch.mean((dydt - a0 * y - w0 * x)**2)\n",
    "    \n",
    "    ## z dimension\n",
    "    ta = torch.atan2(y, x).unsqueeze(1).repeat(1, ti.size()[0])\n",
    "    ti = ti.repeat(ta.size()[0], 1)\n",
    "\n",
    "    dti = (ta - ti) - torch.round((ta - ti) / 2 / np.pi) * 2 * np.pi\n",
    "\n",
    "    ai = ai.repeat(dti.size()[0], 1) \n",
    "    bi = bi.repeat(dti.size()[0], 1) \n",
    "\n",
    "    fresp = 0.25\n",
    "    zbase = 0.005 * torch.sin(2 * np.pi * fresp * t).flatten()\n",
    "\n",
    "    l_z = torch.mean((dzdt + torch.sum(ai * dti * torch.exp(-0.5 * (dti / bi) ** 2), dim = 1) + 1 * (z - zbase))**2)\n",
    "\n",
    "    # ic = torch.sum((np.array([x[0], y[0], z[0]]) - X0)**2)  # initial conditions\n",
    "\n",
    "    ############## TENSORBOARD ########################\n",
    "    if (epoch+1) % 20 == 0:\n",
    "        writer.add_scalar(\"total_loss\", l_x + l_y + l_z , epoch)\n",
    "        writer.add_scalar(\"l_x\", l_x, epoch)\n",
    "        writer.add_scalar(\"l_y\", l_y, epoch)\n",
    "        writer.add_scalar(\"l_z\", l_z, epoch)\n",
    "    ###################################################\n",
    "    \n",
    "    return l_x + l_y + l_z \n",
    "\n",
    "def _ecg_simulate_rrprocess(\n",
    "    flo=0.1, fhi=0.25, flostd=0.01, fhistd=0.01, lfhfratio=0.5, hrmean=60, hrstd=1, sfrr=1, n=256\n",
    "):\n",
    "    w1 = 2 * np.pi * flo\n",
    "    w2 = 2 * np.pi * fhi\n",
    "    c1 = 2 * np.pi * flostd\n",
    "    c2 = 2 * np.pi * fhistd\n",
    "    sig2 = 1\n",
    "    sig1 = lfhfratio\n",
    "    rrmean = 60 / hrmean\n",
    "    rrstd = 60 * hrstd / (hrmean * hrmean)\n",
    "\n",
    "    df = sfrr / n\n",
    "    w = np.arange(n) * 2 * np.pi * df\n",
    "    dw1 = w - w1\n",
    "    dw2 = w - w2\n",
    "\n",
    "    Hw1 = sig1 * np.exp(-0.5 * (dw1 / c1) ** 2) / np.sqrt(2 * np.pi * c1 ** 2)\n",
    "    Hw2 = sig2 * np.exp(-0.5 * (dw2 / c2) ** 2) / np.sqrt(2 * np.pi * c2 ** 2)\n",
    "    Hw = Hw1 + Hw2\n",
    "    Hw0 = np.concatenate((Hw[0 : int(n / 2)], Hw[int(n / 2) - 1 :: -1]))\n",
    "    Sw = (sfrr / 2) * np.sqrt(Hw0)\n",
    "\n",
    "    ph0 = 2 * np.pi * np.random.uniform(size=int(n / 2 - 1))\n",
    "    ph = np.concatenate([[0], ph0, [0], -np.flipud(ph0)])\n",
    "    SwC = Sw * np.exp(1j * ph)\n",
    "    x = (1 / n) * np.real(np.fft.ifft(SwC))\n",
    "\n",
    "    xstd = np.std(x)\n",
    "    ratio = rrstd / xstd\n",
    "    return rrmean + x * ratio  # Return RR"
   ]
  },
  {
   "cell_type": "code",
   "execution_count": null,
   "metadata": {},
   "outputs": [
    {
     "name": "stdout",
     "output_type": "stream",
     "text": [
      "epoch 20, loss = 0.3654\n",
      "epoch 40, loss = 0.1298\n",
      "epoch 60, loss = 0.3676\n",
      "epoch 80, loss = 0.0693\n",
      "epoch 100, loss = 0.9999\n",
      "epoch 120, loss = 0.1105\n",
      "epoch 140, loss = 0.0656\n",
      "epoch 160, loss = 0.3289\n",
      "epoch 180, loss = 1.6993\n",
      "epoch 200, loss = 0.3088\n",
      "epoch 220, loss = 0.1250\n",
      "epoch 240, loss = 0.0259\n",
      "epoch 260, loss = 0.0064\n",
      "epoch 280, loss = 0.0036\n",
      "epoch 300, loss = 0.0026\n",
      "epoch 320, loss = 0.0021\n",
      "epoch 340, loss = 0.0017\n",
      "epoch 360, loss = 0.0055\n",
      "epoch 380, loss = 2.1322\n",
      "epoch 400, loss = 1.4670\n",
      "epoch 420, loss = 0.1019\n",
      "epoch 440, loss = 0.2633\n",
      "epoch 460, loss = 0.3170\n",
      "epoch 480, loss = 0.0471\n",
      "epoch 500, loss = 0.0099\n"
     ]
    }
   ],
   "source": [
    "duration=1\n",
    "length=None \n",
    "sampling_rate=512\n",
    "heart_rate=100\n",
    "heart_rate_std=1\n",
    "\n",
    "# Generate number of samples automatically if length is unspecified\n",
    "if length is None:\n",
    "    length = duration * sampling_rate\n",
    "if duration is None:\n",
    "    duration = length / sampling_rate\n",
    "\n",
    "# Run appropriate method\n",
    "approx_number_beats = int(np.round(duration * (heart_rate / 60)))\n",
    "ecg = _ecg_simulate_ecgsyn(\n",
    "    sfecg=sampling_rate,\n",
    "    N=approx_number_beats,\n",
    "    Anoise=0,\n",
    "    hrmean=heart_rate,\n",
    "    hrstd=heart_rate_std,\n",
    "    lfhfratio=0.5,\n",
    "    sfint=sampling_rate\n",
    ")"
   ]
  },
  {
   "cell_type": "markdown",
   "metadata": {},
   "source": [
    "make plot of loss function"
   ]
  },
  {
   "cell_type": "code",
   "execution_count": null,
   "metadata": {},
   "outputs": [
    {
     "data": {
      "image/png": "[encoded data removed]",
      "text/plain": [
       "<Figure size 432x288 with 1 Axes>"
      ]
     },
     "metadata": {
      "needs_background": "light"
     },
     "output_type": "display_data"
    }
   ],
   "source": [
    "import matplotlib.pyplot as plt\n",
    "from matplotlib.pyplot import figure\n",
    "\n",
    "# Let's compare the result to the true solution\n",
    "xx = np.linspace(0, 2.61, length)[:, None]\n",
    "with torch.no_grad():\n",
    "    yy = Net(torch.Tensor(xx)).numpy()\n",
    "\n",
    "t = np.linspace(0, length, length) / sampling_rate\n",
    "plt.plot(t, yy[:,2], '-')\n",
    "plt.legend('z')\n",
    "plt.xlabel('Time (second)')\n",
    "plt.ylabel('z')\n",
    "\n",
    "# ############## TENSORBOARD ########################\n",
    "writer.close()\n",
    "# ###################################################"
   ]
  }
 ],
 "metadata": {
  "interpreter": {
   "hash": "916dbcbb3f70747c44a77c7bcd40155683ae19c65e1c03b4aa3499c5328201f1"
  },
  "kernelspec": {
   "display_name": "Python 3 (ipykernel)",
   "language": "python",
   "name": "python3"
  },
  "language_info": {
   "codemirror_mode": {
    "name": "ipython",
    "version": 3
   },
   "file_extension": ".py",
   "mimetype": "text/x-python",
   "name": "python",
   "nbconvert_exporter": "python",
   "pygments_lexer": "ipython3",
   "version": "3.8.10"
  }
 },
 "nbformat": 4,
 "nbformat_minor": 2
}
